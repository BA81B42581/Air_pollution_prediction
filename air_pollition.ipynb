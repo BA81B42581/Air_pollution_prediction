{
  "metadata": {
    "kernelspec": {
      "name": "python",
      "display_name": "Python (Pyodide)",
      "language": "python"
    },
    "language_info": {
      "codemirror_mode": {
        "name": "python",
        "version": 3
      },
      "file_extension": ".py",
      "mimetype": "text/x-python",
      "name": "python",
      "nbconvert_exporter": "python",
      "pygments_lexer": "ipython3",
      "version": "3.8"
    }
  },
  "nbformat_minor": 5,
  "nbformat": 4,
  "cells": [
    {
      "id": "55cf3950-afcc-4d9c-9bd1-3b479363a075",
      "cell_type": "code",
      "source": "import numpy as np\nimport pandas as pd\nfrom sklearn.ensemble import RandomForestRegressor\nfrom sklearn.metrics import mean_squared_error, r2_score\nfrom sklearn.model_selection import train_test_split\nimport matplotlib.pyplot as plt",
      "metadata": {
        "trusted": true
      },
      "outputs": [],
      "execution_count": null
    },
    {
      "id": "08861ad6-5c0f-4e92-8c00-734bc7dbca7c",
      "cell_type": "code",
      "source": "# Set random seed\nnp.random.seed(42)",
      "metadata": {
        "trusted": true
      },
      "outputs": [],
      "execution_count": null
    },
    {
      "id": "6ed2a4e8-6fbc-4678-916a-c79d66ce8ada",
      "cell_type": "code",
      "source": "# Load dataset\ndf = pd.read_csv(\"dataset.csv\")",
      "metadata": {
        "trusted": true
      },
      "outputs": [],
      "execution_count": null
    },
    {
      "id": "2d3fca77-f6b3-4d0e-8758-b7b9bbfe698c",
      "cell_type": "code",
      "source": "# Show dataset info\nprint(\"Dataset Shape:\", df.shape)\nprint(df.head())",
      "metadata": {
        "trusted": true
      },
      "outputs": [],
      "execution_count": null
    },
    {
      "id": "16780edf-6dd6-42ce-8c03-759484fd3abb",
      "cell_type": "code",
      "source": "# Check for missing values\nprint(\"\\nMissing values:\\n\", df.isnull().sum())",
      "metadata": {
        "trusted": true
      },
      "outputs": [],
      "execution_count": null
    },
    {
      "id": "f4f096e5-f501-4c04-a137-524631119c72",
      "cell_type": "code",
      "source": "# Drop missing values (or handle them as needed)\ndf = df.dropna()",
      "metadata": {
        "trusted": true
      },
      "outputs": [],
      "execution_count": null
    },
    {
      "id": "8ec6d6a3-0975-4ba4-b87b-e818e6551bc3",
      "cell_type": "code",
      "source": "# Split dataset\nX = df.drop(\"AQI\", axis=1)\ny = df[\"AQI\"]\nX_train, X_test, y_train, y_test = train_test_split(X, y, test_size=0.2, random_state=42)",
      "metadata": {
        "trusted": true
      },
      "outputs": [],
      "execution_count": null
    },
    {
      "id": "3cd4be8a-3438-4f74-9046-2517382307c7",
      "cell_type": "code",
      "source": "# Train model\nmodel = RandomForestRegressor(n_estimators=100, random_state=42)\nmodel.fit(X_train, y_train)",
      "metadata": {
        "trusted": true
      },
      "outputs": [],
      "execution_count": null
    },
    {
      "id": "277b2ba2-8754-4f17-bd1b-abfc145f38be",
      "cell_type": "code",
      "source": "# Predict\ny_pred = model.predict(X_test)",
      "metadata": {
        "trusted": true
      },
      "outputs": [],
      "execution_count": null
    },
    {
      "id": "2acc5669-7e60-4d8a-af82-6291ca5bd091",
      "cell_type": "code",
      "source": "# Evaluate\nmse = mean_squared_error(y_test, y_pred)\nr2 = r2_score(y_test, y_pred)\nprint(f\"Mean Squared Error: {mse:.2f}\")\nprint(f\"R² Score: {r2:.2f}\")\n",
      "metadata": {
        "trusted": true
      },
      "outputs": [],
      "execution_count": null
    },
    {
      "id": "c6cf9026-bd56-4a2d-85c3-12f3ab81954b",
      "cell_type": "code",
      "source": "# Plot Actual vs Predicted\nplt.figure(figsize=(8, 6))\nplt.scatter(y_test, y_pred, color='blue', alpha=0.7, edgecolors='k')\nplt.plot([y.min(), y.max()], [y.min(), y.max()], 'r--', lw=2)\nplt.xlabel(\"Actual AQI\")\nplt.ylabel(\"Predicted AQI\")\nplt.title(\"Actual vs Predicted AQI\")\nplt.grid(True)\nplt.tight_layout()\nplt.show()\n",
      "metadata": {
        "trusted": true
      },
      "outputs": [],
      "execution_count": null
    },
    {
      "id": "c12caa67-1590-4dbd-89d6-e2c515105ba8",
      "cell_type": "code",
      "source": "# Plot Feature Importance\nimportances = model.feature_importances_\nfeatures = X.columns",
      "metadata": {
        "trusted": true
      },
      "outputs": [],
      "execution_count": null
    },
    {
      "id": "fc88efda-6504-4f34-95ae-903d1b3c3e80",
      "cell_type": "code",
      "source": "plt.figure(figsize=(10, 6))\nplt.barh(features, importances, color='green')\nplt.xlabel(\"Importance\")\nplt.title(\"Feature Importance in Predicting AQI\")\nplt.tight_layout()\nplt.show()",
      "metadata": {
        "trusted": true
      },
      "outputs": [],
      "execution_count": null
    },
    {
      "id": "771e0f2c-8411-4084-b865-2ee185399646",
      "cell_type": "code",
      "source": "",
      "metadata": {
        "trusted": true
      },
      "outputs": [],
      "execution_count": null
    },
    {
      "id": "37eb65e5-8392-4124-a887-42dc2bf23793",
      "cell_type": "code",
      "source": "",
      "metadata": {
        "trusted": true
      },
      "outputs": [],
      "execution_count": null
    },
    {
      "id": "586d7242-b834-428c-bef3-638b4a4ab010",
      "cell_type": "code",
      "source": "",
      "metadata": {
        "trusted": true
      },
      "outputs": [],
      "execution_count": null
    }
  ]
}